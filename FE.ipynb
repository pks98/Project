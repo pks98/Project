{
 "cells": [
  {
   "cell_type": "code",
   "execution_count": 1,
   "metadata": {
    "ExecuteTime": {
     "end_time": "2022-04-09T12:48:19.730687Z",
     "start_time": "2022-04-09T12:48:18.765097Z"
    },
    "id": "BrfWYG9wjcWX"
   },
   "outputs": [],
   "source": [
    "import pandas as pd"
   ]
  },
  {
   "cell_type": "code",
   "execution_count": 2,
   "metadata": {
    "ExecuteTime": {
     "end_time": "2022-04-09T12:48:19.793326Z",
     "start_time": "2022-04-09T12:48:19.730687Z"
    },
    "colab": {
     "base_uri": "https://localhost:8080/",
     "height": 322
    },
    "id": "-gdwA-OMjxpU",
    "outputId": "54f1c81e-b412-44fc-dd82-1221f2f199a7"
   },
   "outputs": [
    {
     "data": {
      "text/html": [
       "<div>\n",
       "<style scoped>\n",
       "    .dataframe tbody tr th:only-of-type {\n",
       "        vertical-align: middle;\n",
       "    }\n",
       "\n",
       "    .dataframe tbody tr th {\n",
       "        vertical-align: top;\n",
       "    }\n",
       "\n",
       "    .dataframe thead th {\n",
       "        text-align: right;\n",
       "    }\n",
       "</style>\n",
       "<table border=\"1\" class=\"dataframe\">\n",
       "  <thead>\n",
       "    <tr style=\"text-align: right;\">\n",
       "      <th></th>\n",
       "      <th>make</th>\n",
       "      <th>model</th>\n",
       "      <th>vehicle_class</th>\n",
       "      <th>engine_size</th>\n",
       "      <th>cylinders</th>\n",
       "      <th>transmission</th>\n",
       "      <th>fuel_type</th>\n",
       "      <th>fuel_consumption_city</th>\n",
       "      <th>fuel_consumption_hwy</th>\n",
       "      <th>fuel_consumption_comb(l/100km)</th>\n",
       "      <th>fuel_consumption_comb(mpg)</th>\n",
       "      <th>co2_emissions</th>\n",
       "    </tr>\n",
       "  </thead>\n",
       "  <tbody>\n",
       "    <tr>\n",
       "      <th>0</th>\n",
       "      <td>ACURA</td>\n",
       "      <td>ILX</td>\n",
       "      <td>COMPACT</td>\n",
       "      <td>2.0</td>\n",
       "      <td>4</td>\n",
       "      <td>AS</td>\n",
       "      <td>Z</td>\n",
       "      <td>9.9</td>\n",
       "      <td>6.7</td>\n",
       "      <td>8.5</td>\n",
       "      <td>33</td>\n",
       "      <td>196</td>\n",
       "    </tr>\n",
       "    <tr>\n",
       "      <th>1</th>\n",
       "      <td>ACURA</td>\n",
       "      <td>ILX</td>\n",
       "      <td>COMPACT</td>\n",
       "      <td>2.4</td>\n",
       "      <td>4</td>\n",
       "      <td>M</td>\n",
       "      <td>Z</td>\n",
       "      <td>11.2</td>\n",
       "      <td>7.7</td>\n",
       "      <td>9.6</td>\n",
       "      <td>29</td>\n",
       "      <td>221</td>\n",
       "    </tr>\n",
       "    <tr>\n",
       "      <th>2</th>\n",
       "      <td>ACURA</td>\n",
       "      <td>ILX HYBRID</td>\n",
       "      <td>COMPACT</td>\n",
       "      <td>1.5</td>\n",
       "      <td>4</td>\n",
       "      <td>AV</td>\n",
       "      <td>Z</td>\n",
       "      <td>6.0</td>\n",
       "      <td>5.8</td>\n",
       "      <td>5.9</td>\n",
       "      <td>48</td>\n",
       "      <td>136</td>\n",
       "    </tr>\n",
       "    <tr>\n",
       "      <th>3</th>\n",
       "      <td>ACURA</td>\n",
       "      <td>MDX 4WD</td>\n",
       "      <td>SUV - SMALL</td>\n",
       "      <td>3.5</td>\n",
       "      <td>6</td>\n",
       "      <td>AS</td>\n",
       "      <td>Z</td>\n",
       "      <td>12.7</td>\n",
       "      <td>9.1</td>\n",
       "      <td>11.1</td>\n",
       "      <td>25</td>\n",
       "      <td>255</td>\n",
       "    </tr>\n",
       "    <tr>\n",
       "      <th>4</th>\n",
       "      <td>ACURA</td>\n",
       "      <td>RDX AWD</td>\n",
       "      <td>SUV - SMALL</td>\n",
       "      <td>3.5</td>\n",
       "      <td>6</td>\n",
       "      <td>AS</td>\n",
       "      <td>Z</td>\n",
       "      <td>12.1</td>\n",
       "      <td>8.7</td>\n",
       "      <td>10.6</td>\n",
       "      <td>27</td>\n",
       "      <td>244</td>\n",
       "    </tr>\n",
       "  </tbody>\n",
       "</table>\n",
       "</div>"
      ],
      "text/plain": [
       "    make       model vehicle_class  engine_size  cylinders transmission  \\\n",
       "0  ACURA         ILX       COMPACT          2.0          4           AS   \n",
       "1  ACURA         ILX       COMPACT          2.4          4            M   \n",
       "2  ACURA  ILX HYBRID       COMPACT          1.5          4           AV   \n",
       "3  ACURA     MDX 4WD   SUV - SMALL          3.5          6           AS   \n",
       "4  ACURA     RDX AWD   SUV - SMALL          3.5          6           AS   \n",
       "\n",
       "  fuel_type  fuel_consumption_city  fuel_consumption_hwy  \\\n",
       "0         Z                    9.9                   6.7   \n",
       "1         Z                   11.2                   7.7   \n",
       "2         Z                    6.0                   5.8   \n",
       "3         Z                   12.7                   9.1   \n",
       "4         Z                   12.1                   8.7   \n",
       "\n",
       "   fuel_consumption_comb(l/100km)  fuel_consumption_comb(mpg)  co2_emissions  \n",
       "0                             8.5                          33            196  \n",
       "1                             9.6                          29            221  \n",
       "2                             5.9                          48            136  \n",
       "3                            11.1                          25            255  \n",
       "4                            10.6                          27            244  "
      ]
     },
     "execution_count": 2,
     "metadata": {},
     "output_type": "execute_result"
    }
   ],
   "source": [
    "df=pd.read_csv('co2_emissions (1).csv',sep=';')\n",
    "df.head()"
   ]
  },
  {
   "cell_type": "code",
   "execution_count": 3,
   "metadata": {
    "ExecuteTime": {
     "end_time": "2022-04-09T12:48:19.809312Z",
     "start_time": "2022-04-09T12:48:19.796321Z"
    },
    "colab": {
     "base_uri": "https://localhost:8080/"
    },
    "id": "6WouGfLemyzj",
    "outputId": "ff40d448-9850-4a18-a65c-639f7c643bb7"
   },
   "outputs": [
    {
     "data": {
      "text/plain": [
       "(7385, 12)"
      ]
     },
     "execution_count": 3,
     "metadata": {},
     "output_type": "execute_result"
    }
   ],
   "source": [
    "df.shape"
   ]
  },
  {
   "cell_type": "code",
   "execution_count": 4,
   "metadata": {
    "ExecuteTime": {
     "end_time": "2022-04-09T12:48:19.825304Z",
     "start_time": "2022-04-09T12:48:19.813311Z"
    },
    "id": "-B2eyu0vjxsi"
   },
   "outputs": [],
   "source": [
    "df['make']=df['make'].apply(lambda x:x.lower())"
   ]
  },
  {
   "cell_type": "code",
   "execution_count": 5,
   "metadata": {
    "ExecuteTime": {
     "end_time": "2022-04-09T12:48:19.841295Z",
     "start_time": "2022-04-09T12:48:19.828302Z"
    },
    "id": "hYTVWJ-DjxxM"
   },
   "outputs": [],
   "source": [
    "cat_col=[]\n",
    "for i in df.columns:\n",
    "  if df[i].dtype == 'object':\n",
    "    cat_col.append(i)"
   ]
  },
  {
   "cell_type": "code",
   "execution_count": 6,
   "metadata": {
    "ExecuteTime": {
     "end_time": "2022-04-09T12:48:19.857287Z",
     "start_time": "2022-04-09T12:48:19.844292Z"
    },
    "colab": {
     "base_uri": "https://localhost:8080/"
    },
    "id": "jDTpZoo_krQs",
    "outputId": "4f09d419-931e-412b-dd16-2beb534edd1b"
   },
   "outputs": [
    {
     "data": {
      "text/plain": [
       "['make', 'model', 'vehicle_class', 'transmission', 'fuel_type']"
      ]
     },
     "execution_count": 6,
     "metadata": {},
     "output_type": "execute_result"
    }
   ],
   "source": [
    "cat_col"
   ]
  },
  {
   "cell_type": "code",
   "execution_count": 7,
   "metadata": {
    "ExecuteTime": {
     "end_time": "2022-04-09T12:48:19.905257Z",
     "start_time": "2022-04-09T12:48:19.861284Z"
    },
    "id": "FStYMRYskrTE"
   },
   "outputs": [],
   "source": [
    "for i in cat_col:\n",
    "  df[i]=df[i].apply(lambda x:x.lower())"
   ]
  },
  {
   "cell_type": "code",
   "execution_count": 8,
   "metadata": {
    "ExecuteTime": {
     "end_time": "2022-04-09T12:48:19.953236Z",
     "start_time": "2022-04-09T12:48:19.908257Z"
    },
    "colab": {
     "base_uri": "https://localhost:8080/",
     "height": 322
    },
    "id": "53Rm7EWZkrVY",
    "outputId": "c241bde8-c63e-4d47-e057-30aa9ea75d91"
   },
   "outputs": [
    {
     "data": {
      "text/html": [
       "<div>\n",
       "<style scoped>\n",
       "    .dataframe tbody tr th:only-of-type {\n",
       "        vertical-align: middle;\n",
       "    }\n",
       "\n",
       "    .dataframe tbody tr th {\n",
       "        vertical-align: top;\n",
       "    }\n",
       "\n",
       "    .dataframe thead th {\n",
       "        text-align: right;\n",
       "    }\n",
       "</style>\n",
       "<table border=\"1\" class=\"dataframe\">\n",
       "  <thead>\n",
       "    <tr style=\"text-align: right;\">\n",
       "      <th></th>\n",
       "      <th>make</th>\n",
       "      <th>model</th>\n",
       "      <th>vehicle_class</th>\n",
       "      <th>engine_size</th>\n",
       "      <th>cylinders</th>\n",
       "      <th>transmission</th>\n",
       "      <th>fuel_type</th>\n",
       "      <th>fuel_consumption_city</th>\n",
       "      <th>fuel_consumption_hwy</th>\n",
       "      <th>fuel_consumption_comb(l/100km)</th>\n",
       "      <th>fuel_consumption_comb(mpg)</th>\n",
       "      <th>co2_emissions</th>\n",
       "    </tr>\n",
       "  </thead>\n",
       "  <tbody>\n",
       "    <tr>\n",
       "      <th>0</th>\n",
       "      <td>acura</td>\n",
       "      <td>ilx</td>\n",
       "      <td>compact</td>\n",
       "      <td>2.0</td>\n",
       "      <td>4</td>\n",
       "      <td>as</td>\n",
       "      <td>z</td>\n",
       "      <td>9.9</td>\n",
       "      <td>6.7</td>\n",
       "      <td>8.5</td>\n",
       "      <td>33</td>\n",
       "      <td>196</td>\n",
       "    </tr>\n",
       "    <tr>\n",
       "      <th>1</th>\n",
       "      <td>acura</td>\n",
       "      <td>ilx</td>\n",
       "      <td>compact</td>\n",
       "      <td>2.4</td>\n",
       "      <td>4</td>\n",
       "      <td>m</td>\n",
       "      <td>z</td>\n",
       "      <td>11.2</td>\n",
       "      <td>7.7</td>\n",
       "      <td>9.6</td>\n",
       "      <td>29</td>\n",
       "      <td>221</td>\n",
       "    </tr>\n",
       "    <tr>\n",
       "      <th>2</th>\n",
       "      <td>acura</td>\n",
       "      <td>ilx hybrid</td>\n",
       "      <td>compact</td>\n",
       "      <td>1.5</td>\n",
       "      <td>4</td>\n",
       "      <td>av</td>\n",
       "      <td>z</td>\n",
       "      <td>6.0</td>\n",
       "      <td>5.8</td>\n",
       "      <td>5.9</td>\n",
       "      <td>48</td>\n",
       "      <td>136</td>\n",
       "    </tr>\n",
       "    <tr>\n",
       "      <th>3</th>\n",
       "      <td>acura</td>\n",
       "      <td>mdx 4wd</td>\n",
       "      <td>suv - small</td>\n",
       "      <td>3.5</td>\n",
       "      <td>6</td>\n",
       "      <td>as</td>\n",
       "      <td>z</td>\n",
       "      <td>12.7</td>\n",
       "      <td>9.1</td>\n",
       "      <td>11.1</td>\n",
       "      <td>25</td>\n",
       "      <td>255</td>\n",
       "    </tr>\n",
       "    <tr>\n",
       "      <th>4</th>\n",
       "      <td>acura</td>\n",
       "      <td>rdx awd</td>\n",
       "      <td>suv - small</td>\n",
       "      <td>3.5</td>\n",
       "      <td>6</td>\n",
       "      <td>as</td>\n",
       "      <td>z</td>\n",
       "      <td>12.1</td>\n",
       "      <td>8.7</td>\n",
       "      <td>10.6</td>\n",
       "      <td>27</td>\n",
       "      <td>244</td>\n",
       "    </tr>\n",
       "  </tbody>\n",
       "</table>\n",
       "</div>"
      ],
      "text/plain": [
       "    make       model vehicle_class  engine_size  cylinders transmission  \\\n",
       "0  acura         ilx       compact          2.0          4           as   \n",
       "1  acura         ilx       compact          2.4          4            m   \n",
       "2  acura  ilx hybrid       compact          1.5          4           av   \n",
       "3  acura     mdx 4wd   suv - small          3.5          6           as   \n",
       "4  acura     rdx awd   suv - small          3.5          6           as   \n",
       "\n",
       "  fuel_type  fuel_consumption_city  fuel_consumption_hwy  \\\n",
       "0         z                    9.9                   6.7   \n",
       "1         z                   11.2                   7.7   \n",
       "2         z                    6.0                   5.8   \n",
       "3         z                   12.7                   9.1   \n",
       "4         z                   12.1                   8.7   \n",
       "\n",
       "   fuel_consumption_comb(l/100km)  fuel_consumption_comb(mpg)  co2_emissions  \n",
       "0                             8.5                          33            196  \n",
       "1                             9.6                          29            221  \n",
       "2                             5.9                          48            136  \n",
       "3                            11.1                          25            255  \n",
       "4                            10.6                          27            244  "
      ]
     },
     "execution_count": 8,
     "metadata": {},
     "output_type": "execute_result"
    }
   ],
   "source": [
    "df.head()"
   ]
  },
  {
   "cell_type": "code",
   "execution_count": 9,
   "metadata": {
    "ExecuteTime": {
     "end_time": "2022-04-09T12:48:20.017196Z",
     "start_time": "2022-04-09T12:48:19.957228Z"
    },
    "colab": {
     "base_uri": "https://localhost:8080/",
     "height": 540
    },
    "id": "Z3RWsPV4krXg",
    "outputId": "85c1c5e1-aa6e-4461-90ef-ff22ca88c8ab"
   },
   "outputs": [
    {
     "data": {
      "text/html": [
       "<div>\n",
       "<style scoped>\n",
       "    .dataframe tbody tr th:only-of-type {\n",
       "        vertical-align: middle;\n",
       "    }\n",
       "\n",
       "    .dataframe tbody tr th {\n",
       "        vertical-align: top;\n",
       "    }\n",
       "\n",
       "    .dataframe thead th {\n",
       "        text-align: right;\n",
       "    }\n",
       "</style>\n",
       "<table border=\"1\" class=\"dataframe\">\n",
       "  <thead>\n",
       "    <tr style=\"text-align: right;\">\n",
       "      <th></th>\n",
       "      <th>make</th>\n",
       "      <th>model</th>\n",
       "      <th>vehicle_class</th>\n",
       "      <th>engine_size</th>\n",
       "      <th>cylinders</th>\n",
       "      <th>transmission</th>\n",
       "      <th>fuel_type</th>\n",
       "      <th>fuel_consumption_city</th>\n",
       "      <th>fuel_consumption_hwy</th>\n",
       "      <th>fuel_consumption_comb(l/100km)</th>\n",
       "      <th>fuel_consumption_comb(mpg)</th>\n",
       "      <th>co2_emissions</th>\n",
       "    </tr>\n",
       "  </thead>\n",
       "  <tbody>\n",
       "    <tr>\n",
       "      <th>1075</th>\n",
       "      <td>acura</td>\n",
       "      <td>rdx awd</td>\n",
       "      <td>suv - small</td>\n",
       "      <td>3.5</td>\n",
       "      <td>6</td>\n",
       "      <td>as</td>\n",
       "      <td>z</td>\n",
       "      <td>12.1</td>\n",
       "      <td>8.7</td>\n",
       "      <td>10.6</td>\n",
       "      <td>27</td>\n",
       "      <td>244</td>\n",
       "    </tr>\n",
       "    <tr>\n",
       "      <th>1076</th>\n",
       "      <td>acura</td>\n",
       "      <td>rlx</td>\n",
       "      <td>mid-size</td>\n",
       "      <td>3.5</td>\n",
       "      <td>6</td>\n",
       "      <td>as</td>\n",
       "      <td>z</td>\n",
       "      <td>11.9</td>\n",
       "      <td>7.7</td>\n",
       "      <td>10.0</td>\n",
       "      <td>28</td>\n",
       "      <td>230</td>\n",
       "    </tr>\n",
       "    <tr>\n",
       "      <th>1081</th>\n",
       "      <td>alfa romeo</td>\n",
       "      <td>4c</td>\n",
       "      <td>two-seater</td>\n",
       "      <td>1.8</td>\n",
       "      <td>4</td>\n",
       "      <td>am</td>\n",
       "      <td>z</td>\n",
       "      <td>9.7</td>\n",
       "      <td>6.9</td>\n",
       "      <td>8.4</td>\n",
       "      <td>34</td>\n",
       "      <td>193</td>\n",
       "    </tr>\n",
       "    <tr>\n",
       "      <th>1082</th>\n",
       "      <td>aston martin</td>\n",
       "      <td>db9</td>\n",
       "      <td>minicompact</td>\n",
       "      <td>5.9</td>\n",
       "      <td>12</td>\n",
       "      <td>a</td>\n",
       "      <td>z</td>\n",
       "      <td>18.0</td>\n",
       "      <td>12.6</td>\n",
       "      <td>15.6</td>\n",
       "      <td>18</td>\n",
       "      <td>359</td>\n",
       "    </tr>\n",
       "    <tr>\n",
       "      <th>1084</th>\n",
       "      <td>aston martin</td>\n",
       "      <td>v8 vantage</td>\n",
       "      <td>two-seater</td>\n",
       "      <td>4.7</td>\n",
       "      <td>8</td>\n",
       "      <td>am</td>\n",
       "      <td>z</td>\n",
       "      <td>17.4</td>\n",
       "      <td>11.3</td>\n",
       "      <td>14.7</td>\n",
       "      <td>19</td>\n",
       "      <td>338</td>\n",
       "    </tr>\n",
       "    <tr>\n",
       "      <th>...</th>\n",
       "      <td>...</td>\n",
       "      <td>...</td>\n",
       "      <td>...</td>\n",
       "      <td>...</td>\n",
       "      <td>...</td>\n",
       "      <td>...</td>\n",
       "      <td>...</td>\n",
       "      <td>...</td>\n",
       "      <td>...</td>\n",
       "      <td>...</td>\n",
       "      <td>...</td>\n",
       "      <td>...</td>\n",
       "    </tr>\n",
       "    <tr>\n",
       "      <th>7356</th>\n",
       "      <td>toyota</td>\n",
       "      <td>tundra</td>\n",
       "      <td>pickup truck - standard</td>\n",
       "      <td>5.7</td>\n",
       "      <td>8</td>\n",
       "      <td>as</td>\n",
       "      <td>x</td>\n",
       "      <td>17.7</td>\n",
       "      <td>13.6</td>\n",
       "      <td>15.9</td>\n",
       "      <td>18</td>\n",
       "      <td>371</td>\n",
       "    </tr>\n",
       "    <tr>\n",
       "      <th>7365</th>\n",
       "      <td>volkswagen</td>\n",
       "      <td>golf gti</td>\n",
       "      <td>compact</td>\n",
       "      <td>2.0</td>\n",
       "      <td>4</td>\n",
       "      <td>m</td>\n",
       "      <td>x</td>\n",
       "      <td>9.8</td>\n",
       "      <td>7.3</td>\n",
       "      <td>8.7</td>\n",
       "      <td>32</td>\n",
       "      <td>203</td>\n",
       "    </tr>\n",
       "    <tr>\n",
       "      <th>7366</th>\n",
       "      <td>volkswagen</td>\n",
       "      <td>jetta</td>\n",
       "      <td>compact</td>\n",
       "      <td>1.4</td>\n",
       "      <td>4</td>\n",
       "      <td>as</td>\n",
       "      <td>x</td>\n",
       "      <td>7.8</td>\n",
       "      <td>5.9</td>\n",
       "      <td>7.0</td>\n",
       "      <td>40</td>\n",
       "      <td>162</td>\n",
       "    </tr>\n",
       "    <tr>\n",
       "      <th>7367</th>\n",
       "      <td>volkswagen</td>\n",
       "      <td>jetta</td>\n",
       "      <td>compact</td>\n",
       "      <td>1.4</td>\n",
       "      <td>4</td>\n",
       "      <td>m</td>\n",
       "      <td>x</td>\n",
       "      <td>7.9</td>\n",
       "      <td>5.9</td>\n",
       "      <td>7.0</td>\n",
       "      <td>40</td>\n",
       "      <td>163</td>\n",
       "    </tr>\n",
       "    <tr>\n",
       "      <th>7368</th>\n",
       "      <td>volkswagen</td>\n",
       "      <td>jetta gli</td>\n",
       "      <td>compact</td>\n",
       "      <td>2.0</td>\n",
       "      <td>4</td>\n",
       "      <td>am</td>\n",
       "      <td>x</td>\n",
       "      <td>9.3</td>\n",
       "      <td>7.2</td>\n",
       "      <td>8.4</td>\n",
       "      <td>34</td>\n",
       "      <td>196</td>\n",
       "    </tr>\n",
       "  </tbody>\n",
       "</table>\n",
       "<p>1404 rows × 12 columns</p>\n",
       "</div>"
      ],
      "text/plain": [
       "              make       model            vehicle_class  engine_size  \\\n",
       "1075         acura     rdx awd              suv - small          3.5   \n",
       "1076         acura         rlx                 mid-size          3.5   \n",
       "1081    alfa romeo          4c               two-seater          1.8   \n",
       "1082  aston martin         db9              minicompact          5.9   \n",
       "1084  aston martin  v8 vantage               two-seater          4.7   \n",
       "...            ...         ...                      ...          ...   \n",
       "7356        toyota      tundra  pickup truck - standard          5.7   \n",
       "7365    volkswagen    golf gti                  compact          2.0   \n",
       "7366    volkswagen       jetta                  compact          1.4   \n",
       "7367    volkswagen       jetta                  compact          1.4   \n",
       "7368    volkswagen   jetta gli                  compact          2.0   \n",
       "\n",
       "      cylinders transmission fuel_type  fuel_consumption_city  \\\n",
       "1075          6           as         z                   12.1   \n",
       "1076          6           as         z                   11.9   \n",
       "1081          4           am         z                    9.7   \n",
       "1082         12            a         z                   18.0   \n",
       "1084          8           am         z                   17.4   \n",
       "...         ...          ...       ...                    ...   \n",
       "7356          8           as         x                   17.7   \n",
       "7365          4            m         x                    9.8   \n",
       "7366          4           as         x                    7.8   \n",
       "7367          4            m         x                    7.9   \n",
       "7368          4           am         x                    9.3   \n",
       "\n",
       "      fuel_consumption_hwy  fuel_consumption_comb(l/100km)  \\\n",
       "1075                   8.7                            10.6   \n",
       "1076                   7.7                            10.0   \n",
       "1081                   6.9                             8.4   \n",
       "1082                  12.6                            15.6   \n",
       "1084                  11.3                            14.7   \n",
       "...                    ...                             ...   \n",
       "7356                  13.6                            15.9   \n",
       "7365                   7.3                             8.7   \n",
       "7366                   5.9                             7.0   \n",
       "7367                   5.9                             7.0   \n",
       "7368                   7.2                             8.4   \n",
       "\n",
       "      fuel_consumption_comb(mpg)  co2_emissions  \n",
       "1075                          27            244  \n",
       "1076                          28            230  \n",
       "1081                          34            193  \n",
       "1082                          18            359  \n",
       "1084                          19            338  \n",
       "...                          ...            ...  \n",
       "7356                          18            371  \n",
       "7365                          32            203  \n",
       "7366                          40            162  \n",
       "7367                          40            163  \n",
       "7368                          34            196  \n",
       "\n",
       "[1404 rows x 12 columns]"
      ]
     },
     "execution_count": 9,
     "metadata": {},
     "output_type": "execute_result"
    }
   ],
   "source": [
    "df[df.duplicated()] "
   ]
  },
  {
   "cell_type": "code",
   "execution_count": 10,
   "metadata": {
    "ExecuteTime": {
     "end_time": "2022-04-09T12:48:20.048176Z",
     "start_time": "2022-04-09T12:48:20.024190Z"
    },
    "colab": {
     "base_uri": "https://localhost:8080/"
    },
    "id": "t_IPEyDkljSl",
    "outputId": "ea2b7ab0-b65f-4a5e-d8ed-f1e9712c4949"
   },
   "outputs": [
    {
     "data": {
      "text/plain": [
       "1404"
      ]
     },
     "execution_count": 10,
     "metadata": {},
     "output_type": "execute_result"
    }
   ],
   "source": [
    "df.duplicated().sum()"
   ]
  },
  {
   "cell_type": "code",
   "execution_count": 11,
   "metadata": {
    "ExecuteTime": {
     "end_time": "2022-04-09T12:48:20.080157Z",
     "start_time": "2022-04-09T12:48:20.052173Z"
    },
    "id": "AiNtxfiWkrZt"
   },
   "outputs": [],
   "source": [
    "df.drop_duplicates(inplace=True) "
   ]
  },
  {
   "cell_type": "code",
   "execution_count": 12,
   "metadata": {
    "ExecuteTime": {
     "end_time": "2022-04-09T12:48:20.095150Z",
     "start_time": "2022-04-09T12:48:20.083156Z"
    },
    "colab": {
     "base_uri": "https://localhost:8080/"
    },
    "id": "hYFw8IMFkrbv",
    "outputId": "8dfb294e-90a3-42bd-c617-3627bd36c4ea"
   },
   "outputs": [
    {
     "data": {
      "text/plain": [
       "(5981, 12)"
      ]
     },
     "execution_count": 12,
     "metadata": {},
     "output_type": "execute_result"
    }
   ],
   "source": [
    "df.shape"
   ]
  },
  {
   "cell_type": "code",
   "execution_count": 13,
   "metadata": {
    "ExecuteTime": {
     "end_time": "2022-04-09T12:48:20.140104Z",
     "start_time": "2022-04-09T12:48:20.103143Z"
    },
    "colab": {
     "base_uri": "https://localhost:8080/"
    },
    "id": "5wJ8Kz3ukrdq",
    "outputId": "17158078-fc7d-49e4-eadd-c7c6efb41c8d"
   },
   "outputs": [
    {
     "data": {
      "text/plain": [
       "0"
      ]
     },
     "execution_count": 13,
     "metadata": {},
     "output_type": "execute_result"
    }
   ],
   "source": [
    "df.duplicated().sum()"
   ]
  },
  {
   "cell_type": "code",
   "execution_count": 14,
   "metadata": {
    "ExecuteTime": {
     "end_time": "2022-04-09T12:48:20.188078Z",
     "start_time": "2022-04-09T12:48:20.143101Z"
    },
    "colab": {
     "base_uri": "https://localhost:8080/",
     "height": 322
    },
    "id": "6jWUa8n9H_JU",
    "outputId": "93498322-02cd-4fc1-daa9-29d08c1ab6a9"
   },
   "outputs": [
    {
     "data": {
      "text/html": [
       "<div>\n",
       "<style scoped>\n",
       "    .dataframe tbody tr th:only-of-type {\n",
       "        vertical-align: middle;\n",
       "    }\n",
       "\n",
       "    .dataframe tbody tr th {\n",
       "        vertical-align: top;\n",
       "    }\n",
       "\n",
       "    .dataframe thead th {\n",
       "        text-align: right;\n",
       "    }\n",
       "</style>\n",
       "<table border=\"1\" class=\"dataframe\">\n",
       "  <thead>\n",
       "    <tr style=\"text-align: right;\">\n",
       "      <th></th>\n",
       "      <th>make</th>\n",
       "      <th>model</th>\n",
       "      <th>vehicle_class</th>\n",
       "      <th>engine_size</th>\n",
       "      <th>cylinders</th>\n",
       "      <th>transmission</th>\n",
       "      <th>fuel_type</th>\n",
       "      <th>fuel_consumption_city</th>\n",
       "      <th>fuel_consumption_hwy</th>\n",
       "      <th>fuel_consumption_comb(l/100km)</th>\n",
       "      <th>fuel_consumption_comb(mpg)</th>\n",
       "      <th>co2_emissions</th>\n",
       "    </tr>\n",
       "  </thead>\n",
       "  <tbody>\n",
       "    <tr>\n",
       "      <th>0</th>\n",
       "      <td>acura</td>\n",
       "      <td>ilx</td>\n",
       "      <td>compact</td>\n",
       "      <td>2.0</td>\n",
       "      <td>4</td>\n",
       "      <td>as</td>\n",
       "      <td>z</td>\n",
       "      <td>9.9</td>\n",
       "      <td>6.7</td>\n",
       "      <td>8.5</td>\n",
       "      <td>33</td>\n",
       "      <td>196</td>\n",
       "    </tr>\n",
       "    <tr>\n",
       "      <th>1</th>\n",
       "      <td>acura</td>\n",
       "      <td>ilx</td>\n",
       "      <td>compact</td>\n",
       "      <td>2.4</td>\n",
       "      <td>4</td>\n",
       "      <td>m</td>\n",
       "      <td>z</td>\n",
       "      <td>11.2</td>\n",
       "      <td>7.7</td>\n",
       "      <td>9.6</td>\n",
       "      <td>29</td>\n",
       "      <td>221</td>\n",
       "    </tr>\n",
       "    <tr>\n",
       "      <th>2</th>\n",
       "      <td>acura</td>\n",
       "      <td>ilx hybrid</td>\n",
       "      <td>compact</td>\n",
       "      <td>1.5</td>\n",
       "      <td>4</td>\n",
       "      <td>av</td>\n",
       "      <td>z</td>\n",
       "      <td>6.0</td>\n",
       "      <td>5.8</td>\n",
       "      <td>5.9</td>\n",
       "      <td>48</td>\n",
       "      <td>136</td>\n",
       "    </tr>\n",
       "    <tr>\n",
       "      <th>3</th>\n",
       "      <td>acura</td>\n",
       "      <td>mdx 4wd</td>\n",
       "      <td>suv - small</td>\n",
       "      <td>3.5</td>\n",
       "      <td>6</td>\n",
       "      <td>as</td>\n",
       "      <td>z</td>\n",
       "      <td>12.7</td>\n",
       "      <td>9.1</td>\n",
       "      <td>11.1</td>\n",
       "      <td>25</td>\n",
       "      <td>255</td>\n",
       "    </tr>\n",
       "    <tr>\n",
       "      <th>4</th>\n",
       "      <td>acura</td>\n",
       "      <td>rdx awd</td>\n",
       "      <td>suv - small</td>\n",
       "      <td>3.5</td>\n",
       "      <td>6</td>\n",
       "      <td>as</td>\n",
       "      <td>z</td>\n",
       "      <td>12.1</td>\n",
       "      <td>8.7</td>\n",
       "      <td>10.6</td>\n",
       "      <td>27</td>\n",
       "      <td>244</td>\n",
       "    </tr>\n",
       "  </tbody>\n",
       "</table>\n",
       "</div>"
      ],
      "text/plain": [
       "    make       model vehicle_class  engine_size  cylinders transmission  \\\n",
       "0  acura         ilx       compact          2.0          4           as   \n",
       "1  acura         ilx       compact          2.4          4            m   \n",
       "2  acura  ilx hybrid       compact          1.5          4           av   \n",
       "3  acura     mdx 4wd   suv - small          3.5          6           as   \n",
       "4  acura     rdx awd   suv - small          3.5          6           as   \n",
       "\n",
       "  fuel_type  fuel_consumption_city  fuel_consumption_hwy  \\\n",
       "0         z                    9.9                   6.7   \n",
       "1         z                   11.2                   7.7   \n",
       "2         z                    6.0                   5.8   \n",
       "3         z                   12.7                   9.1   \n",
       "4         z                   12.1                   8.7   \n",
       "\n",
       "   fuel_consumption_comb(l/100km)  fuel_consumption_comb(mpg)  co2_emissions  \n",
       "0                             8.5                          33            196  \n",
       "1                             9.6                          29            221  \n",
       "2                             5.9                          48            136  \n",
       "3                            11.1                          25            255  \n",
       "4                            10.6                          27            244  "
      ]
     },
     "execution_count": 14,
     "metadata": {},
     "output_type": "execute_result"
    }
   ],
   "source": [
    "df.head()"
   ]
  },
  {
   "cell_type": "code",
   "execution_count": 15,
   "metadata": {
    "ExecuteTime": {
     "end_time": "2022-04-09T12:48:20.220057Z",
     "start_time": "2022-04-09T12:48:20.191075Z"
    },
    "colab": {
     "base_uri": "https://localhost:8080/"
    },
    "id": "QKF_mDdxH_L2",
    "outputId": "e18772b1-7d4c-4d31-d6ca-97c66380d5d7"
   },
   "outputs": [
    {
     "data": {
      "text/plain": [
       "engine_size                       0.854631\n",
       "cylinders                         0.835089\n",
       "fuel_consumption_city             0.916349\n",
       "fuel_consumption_hwy              0.880948\n",
       "fuel_consumption_comb(l/100km)    0.914298\n",
       "fuel_consumption_comb(mpg)       -0.907149\n",
       "co2_emissions                     1.000000\n",
       "Name: co2_emissions, dtype: float64"
      ]
     },
     "execution_count": 15,
     "metadata": {},
     "output_type": "execute_result"
    }
   ],
   "source": [
    "df.corr()['co2_emissions']"
   ]
  },
  {
   "cell_type": "code",
   "execution_count": 16,
   "metadata": {
    "ExecuteTime": {
     "end_time": "2022-04-09T12:48:20.252041Z",
     "start_time": "2022-04-09T12:48:20.228053Z"
    },
    "id": "bYiegrryH_TD"
   },
   "outputs": [],
   "source": [
    "df1=pd.get_dummies(data=df,columns=['transmission','fuel_type'])"
   ]
  },
  {
   "cell_type": "code",
   "execution_count": 17,
   "metadata": {
    "ExecuteTime": {
     "end_time": "2022-04-09T12:48:20.313004Z",
     "start_time": "2022-04-09T12:48:20.257047Z"
    },
    "colab": {
     "base_uri": "https://localhost:8080/",
     "height": 322
    },
    "id": "TMrnyVBJH_Vw",
    "outputId": "c4449feb-093a-4652-a76e-4f4d2df570c0"
   },
   "outputs": [
    {
     "data": {
      "text/html": [
       "<div>\n",
       "<style scoped>\n",
       "    .dataframe tbody tr th:only-of-type {\n",
       "        vertical-align: middle;\n",
       "    }\n",
       "\n",
       "    .dataframe tbody tr th {\n",
       "        vertical-align: top;\n",
       "    }\n",
       "\n",
       "    .dataframe thead th {\n",
       "        text-align: right;\n",
       "    }\n",
       "</style>\n",
       "<table border=\"1\" class=\"dataframe\">\n",
       "  <thead>\n",
       "    <tr style=\"text-align: right;\">\n",
       "      <th></th>\n",
       "      <th>make</th>\n",
       "      <th>model</th>\n",
       "      <th>vehicle_class</th>\n",
       "      <th>engine_size</th>\n",
       "      <th>cylinders</th>\n",
       "      <th>fuel_consumption_city</th>\n",
       "      <th>fuel_consumption_hwy</th>\n",
       "      <th>fuel_consumption_comb(l/100km)</th>\n",
       "      <th>fuel_consumption_comb(mpg)</th>\n",
       "      <th>co2_emissions</th>\n",
       "      <th>transmission_a</th>\n",
       "      <th>transmission_am</th>\n",
       "      <th>transmission_as</th>\n",
       "      <th>transmission_av</th>\n",
       "      <th>transmission_m</th>\n",
       "      <th>fuel_type_d</th>\n",
       "      <th>fuel_type_e</th>\n",
       "      <th>fuel_type_n</th>\n",
       "      <th>fuel_type_x</th>\n",
       "      <th>fuel_type_z</th>\n",
       "    </tr>\n",
       "  </thead>\n",
       "  <tbody>\n",
       "    <tr>\n",
       "      <th>0</th>\n",
       "      <td>acura</td>\n",
       "      <td>ilx</td>\n",
       "      <td>compact</td>\n",
       "      <td>2.0</td>\n",
       "      <td>4</td>\n",
       "      <td>9.9</td>\n",
       "      <td>6.7</td>\n",
       "      <td>8.5</td>\n",
       "      <td>33</td>\n",
       "      <td>196</td>\n",
       "      <td>0</td>\n",
       "      <td>0</td>\n",
       "      <td>1</td>\n",
       "      <td>0</td>\n",
       "      <td>0</td>\n",
       "      <td>0</td>\n",
       "      <td>0</td>\n",
       "      <td>0</td>\n",
       "      <td>0</td>\n",
       "      <td>1</td>\n",
       "    </tr>\n",
       "    <tr>\n",
       "      <th>1</th>\n",
       "      <td>acura</td>\n",
       "      <td>ilx</td>\n",
       "      <td>compact</td>\n",
       "      <td>2.4</td>\n",
       "      <td>4</td>\n",
       "      <td>11.2</td>\n",
       "      <td>7.7</td>\n",
       "      <td>9.6</td>\n",
       "      <td>29</td>\n",
       "      <td>221</td>\n",
       "      <td>0</td>\n",
       "      <td>0</td>\n",
       "      <td>0</td>\n",
       "      <td>0</td>\n",
       "      <td>1</td>\n",
       "      <td>0</td>\n",
       "      <td>0</td>\n",
       "      <td>0</td>\n",
       "      <td>0</td>\n",
       "      <td>1</td>\n",
       "    </tr>\n",
       "    <tr>\n",
       "      <th>2</th>\n",
       "      <td>acura</td>\n",
       "      <td>ilx hybrid</td>\n",
       "      <td>compact</td>\n",
       "      <td>1.5</td>\n",
       "      <td>4</td>\n",
       "      <td>6.0</td>\n",
       "      <td>5.8</td>\n",
       "      <td>5.9</td>\n",
       "      <td>48</td>\n",
       "      <td>136</td>\n",
       "      <td>0</td>\n",
       "      <td>0</td>\n",
       "      <td>0</td>\n",
       "      <td>1</td>\n",
       "      <td>0</td>\n",
       "      <td>0</td>\n",
       "      <td>0</td>\n",
       "      <td>0</td>\n",
       "      <td>0</td>\n",
       "      <td>1</td>\n",
       "    </tr>\n",
       "    <tr>\n",
       "      <th>3</th>\n",
       "      <td>acura</td>\n",
       "      <td>mdx 4wd</td>\n",
       "      <td>suv - small</td>\n",
       "      <td>3.5</td>\n",
       "      <td>6</td>\n",
       "      <td>12.7</td>\n",
       "      <td>9.1</td>\n",
       "      <td>11.1</td>\n",
       "      <td>25</td>\n",
       "      <td>255</td>\n",
       "      <td>0</td>\n",
       "      <td>0</td>\n",
       "      <td>1</td>\n",
       "      <td>0</td>\n",
       "      <td>0</td>\n",
       "      <td>0</td>\n",
       "      <td>0</td>\n",
       "      <td>0</td>\n",
       "      <td>0</td>\n",
       "      <td>1</td>\n",
       "    </tr>\n",
       "    <tr>\n",
       "      <th>4</th>\n",
       "      <td>acura</td>\n",
       "      <td>rdx awd</td>\n",
       "      <td>suv - small</td>\n",
       "      <td>3.5</td>\n",
       "      <td>6</td>\n",
       "      <td>12.1</td>\n",
       "      <td>8.7</td>\n",
       "      <td>10.6</td>\n",
       "      <td>27</td>\n",
       "      <td>244</td>\n",
       "      <td>0</td>\n",
       "      <td>0</td>\n",
       "      <td>1</td>\n",
       "      <td>0</td>\n",
       "      <td>0</td>\n",
       "      <td>0</td>\n",
       "      <td>0</td>\n",
       "      <td>0</td>\n",
       "      <td>0</td>\n",
       "      <td>1</td>\n",
       "    </tr>\n",
       "  </tbody>\n",
       "</table>\n",
       "</div>"
      ],
      "text/plain": [
       "    make       model vehicle_class  engine_size  cylinders  \\\n",
       "0  acura         ilx       compact          2.0          4   \n",
       "1  acura         ilx       compact          2.4          4   \n",
       "2  acura  ilx hybrid       compact          1.5          4   \n",
       "3  acura     mdx 4wd   suv - small          3.5          6   \n",
       "4  acura     rdx awd   suv - small          3.5          6   \n",
       "\n",
       "   fuel_consumption_city  fuel_consumption_hwy  \\\n",
       "0                    9.9                   6.7   \n",
       "1                   11.2                   7.7   \n",
       "2                    6.0                   5.8   \n",
       "3                   12.7                   9.1   \n",
       "4                   12.1                   8.7   \n",
       "\n",
       "   fuel_consumption_comb(l/100km)  fuel_consumption_comb(mpg)  co2_emissions  \\\n",
       "0                             8.5                          33            196   \n",
       "1                             9.6                          29            221   \n",
       "2                             5.9                          48            136   \n",
       "3                            11.1                          25            255   \n",
       "4                            10.6                          27            244   \n",
       "\n",
       "   transmission_a  transmission_am  transmission_as  transmission_av  \\\n",
       "0               0                0                1                0   \n",
       "1               0                0                0                0   \n",
       "2               0                0                0                1   \n",
       "3               0                0                1                0   \n",
       "4               0                0                1                0   \n",
       "\n",
       "   transmission_m  fuel_type_d  fuel_type_e  fuel_type_n  fuel_type_x  \\\n",
       "0               0            0            0            0            0   \n",
       "1               1            0            0            0            0   \n",
       "2               0            0            0            0            0   \n",
       "3               0            0            0            0            0   \n",
       "4               0            0            0            0            0   \n",
       "\n",
       "   fuel_type_z  \n",
       "0            1  \n",
       "1            1  \n",
       "2            1  \n",
       "3            1  \n",
       "4            1  "
      ]
     },
     "execution_count": 17,
     "metadata": {},
     "output_type": "execute_result"
    }
   ],
   "source": [
    "df1.head()"
   ]
  },
  {
   "cell_type": "code",
   "execution_count": 18,
   "metadata": {
    "ExecuteTime": {
     "end_time": "2022-04-09T12:48:20.327996Z",
     "start_time": "2022-04-09T12:48:20.316003Z"
    },
    "id": "vgpKotiPH_X7"
   },
   "outputs": [],
   "source": [
    "x=df1.drop('co2_emissions',axis=1)\n",
    "y=df1['co2_emissions']"
   ]
  },
  {
   "cell_type": "code",
   "execution_count": 19,
   "metadata": {
    "ExecuteTime": {
     "end_time": "2022-04-09T12:48:20.343986Z",
     "start_time": "2022-04-09T12:48:20.331993Z"
    },
    "id": "_NhPW9SlODMv"
   },
   "outputs": [],
   "source": [
    "x=df1.drop(['make','model','vehicle_class'],axis=1)"
   ]
  },
  {
   "cell_type": "code",
   "execution_count": 74,
   "metadata": {
    "ExecuteTime": {
     "end_time": "2022-04-09T13:31:55.740186Z",
     "start_time": "2022-04-09T13:31:55.730172Z"
    }
   },
   "outputs": [
    {
     "data": {
      "text/plain": [
       "Index(['engine_size', 'cylinders', 'fuel_consumption_city',\n",
       "       'fuel_consumption_hwy', 'fuel_consumption_comb(l/100km)',\n",
       "       'fuel_consumption_comb(mpg)', 'co2_emissions', 'transmission_a',\n",
       "       'transmission_am', 'transmission_as', 'transmission_av',\n",
       "       'transmission_m', 'fuel_type_d', 'fuel_type_e', 'fuel_type_n',\n",
       "       'fuel_type_x', 'fuel_type_z'],\n",
       "      dtype='object')"
      ]
     },
     "execution_count": 74,
     "metadata": {},
     "output_type": "execute_result"
    }
   ],
   "source": [
    "x.columns"
   ]
  },
  {
   "cell_type": "code",
   "execution_count": 20,
   "metadata": {
    "ExecuteTime": {
     "end_time": "2022-04-09T12:48:20.390959Z",
     "start_time": "2022-04-09T12:48:20.346985Z"
    },
    "colab": {
     "base_uri": "https://localhost:8080/",
     "height": 270
    },
    "id": "JE3xOSbwH_aO",
    "outputId": "9c2d6c7f-a430-4c0e-db7e-871816c6e8e8"
   },
   "outputs": [
    {
     "data": {
      "text/html": [
       "<div>\n",
       "<style scoped>\n",
       "    .dataframe tbody tr th:only-of-type {\n",
       "        vertical-align: middle;\n",
       "    }\n",
       "\n",
       "    .dataframe tbody tr th {\n",
       "        vertical-align: top;\n",
       "    }\n",
       "\n",
       "    .dataframe thead th {\n",
       "        text-align: right;\n",
       "    }\n",
       "</style>\n",
       "<table border=\"1\" class=\"dataframe\">\n",
       "  <thead>\n",
       "    <tr style=\"text-align: right;\">\n",
       "      <th></th>\n",
       "      <th>engine_size</th>\n",
       "      <th>cylinders</th>\n",
       "      <th>fuel_consumption_city</th>\n",
       "      <th>fuel_consumption_hwy</th>\n",
       "      <th>fuel_consumption_comb(l/100km)</th>\n",
       "      <th>fuel_consumption_comb(mpg)</th>\n",
       "      <th>co2_emissions</th>\n",
       "      <th>transmission_a</th>\n",
       "      <th>transmission_am</th>\n",
       "      <th>transmission_as</th>\n",
       "      <th>transmission_av</th>\n",
       "      <th>transmission_m</th>\n",
       "      <th>fuel_type_d</th>\n",
       "      <th>fuel_type_e</th>\n",
       "      <th>fuel_type_n</th>\n",
       "      <th>fuel_type_x</th>\n",
       "      <th>fuel_type_z</th>\n",
       "    </tr>\n",
       "  </thead>\n",
       "  <tbody>\n",
       "    <tr>\n",
       "      <th>0</th>\n",
       "      <td>2.0</td>\n",
       "      <td>4</td>\n",
       "      <td>9.9</td>\n",
       "      <td>6.7</td>\n",
       "      <td>8.5</td>\n",
       "      <td>33</td>\n",
       "      <td>196</td>\n",
       "      <td>0</td>\n",
       "      <td>0</td>\n",
       "      <td>1</td>\n",
       "      <td>0</td>\n",
       "      <td>0</td>\n",
       "      <td>0</td>\n",
       "      <td>0</td>\n",
       "      <td>0</td>\n",
       "      <td>0</td>\n",
       "      <td>1</td>\n",
       "    </tr>\n",
       "    <tr>\n",
       "      <th>1</th>\n",
       "      <td>2.4</td>\n",
       "      <td>4</td>\n",
       "      <td>11.2</td>\n",
       "      <td>7.7</td>\n",
       "      <td>9.6</td>\n",
       "      <td>29</td>\n",
       "      <td>221</td>\n",
       "      <td>0</td>\n",
       "      <td>0</td>\n",
       "      <td>0</td>\n",
       "      <td>0</td>\n",
       "      <td>1</td>\n",
       "      <td>0</td>\n",
       "      <td>0</td>\n",
       "      <td>0</td>\n",
       "      <td>0</td>\n",
       "      <td>1</td>\n",
       "    </tr>\n",
       "    <tr>\n",
       "      <th>2</th>\n",
       "      <td>1.5</td>\n",
       "      <td>4</td>\n",
       "      <td>6.0</td>\n",
       "      <td>5.8</td>\n",
       "      <td>5.9</td>\n",
       "      <td>48</td>\n",
       "      <td>136</td>\n",
       "      <td>0</td>\n",
       "      <td>0</td>\n",
       "      <td>0</td>\n",
       "      <td>1</td>\n",
       "      <td>0</td>\n",
       "      <td>0</td>\n",
       "      <td>0</td>\n",
       "      <td>0</td>\n",
       "      <td>0</td>\n",
       "      <td>1</td>\n",
       "    </tr>\n",
       "    <tr>\n",
       "      <th>3</th>\n",
       "      <td>3.5</td>\n",
       "      <td>6</td>\n",
       "      <td>12.7</td>\n",
       "      <td>9.1</td>\n",
       "      <td>11.1</td>\n",
       "      <td>25</td>\n",
       "      <td>255</td>\n",
       "      <td>0</td>\n",
       "      <td>0</td>\n",
       "      <td>1</td>\n",
       "      <td>0</td>\n",
       "      <td>0</td>\n",
       "      <td>0</td>\n",
       "      <td>0</td>\n",
       "      <td>0</td>\n",
       "      <td>0</td>\n",
       "      <td>1</td>\n",
       "    </tr>\n",
       "    <tr>\n",
       "      <th>4</th>\n",
       "      <td>3.5</td>\n",
       "      <td>6</td>\n",
       "      <td>12.1</td>\n",
       "      <td>8.7</td>\n",
       "      <td>10.6</td>\n",
       "      <td>27</td>\n",
       "      <td>244</td>\n",
       "      <td>0</td>\n",
       "      <td>0</td>\n",
       "      <td>1</td>\n",
       "      <td>0</td>\n",
       "      <td>0</td>\n",
       "      <td>0</td>\n",
       "      <td>0</td>\n",
       "      <td>0</td>\n",
       "      <td>0</td>\n",
       "      <td>1</td>\n",
       "    </tr>\n",
       "  </tbody>\n",
       "</table>\n",
       "</div>"
      ],
      "text/plain": [
       "   engine_size  cylinders  fuel_consumption_city  fuel_consumption_hwy  \\\n",
       "0          2.0          4                    9.9                   6.7   \n",
       "1          2.4          4                   11.2                   7.7   \n",
       "2          1.5          4                    6.0                   5.8   \n",
       "3          3.5          6                   12.7                   9.1   \n",
       "4          3.5          6                   12.1                   8.7   \n",
       "\n",
       "   fuel_consumption_comb(l/100km)  fuel_consumption_comb(mpg)  co2_emissions  \\\n",
       "0                             8.5                          33            196   \n",
       "1                             9.6                          29            221   \n",
       "2                             5.9                          48            136   \n",
       "3                            11.1                          25            255   \n",
       "4                            10.6                          27            244   \n",
       "\n",
       "   transmission_a  transmission_am  transmission_as  transmission_av  \\\n",
       "0               0                0                1                0   \n",
       "1               0                0                0                0   \n",
       "2               0                0                0                1   \n",
       "3               0                0                1                0   \n",
       "4               0                0                1                0   \n",
       "\n",
       "   transmission_m  fuel_type_d  fuel_type_e  fuel_type_n  fuel_type_x  \\\n",
       "0               0            0            0            0            0   \n",
       "1               1            0            0            0            0   \n",
       "2               0            0            0            0            0   \n",
       "3               0            0            0            0            0   \n",
       "4               0            0            0            0            0   \n",
       "\n",
       "   fuel_type_z  \n",
       "0            1  \n",
       "1            1  \n",
       "2            1  \n",
       "3            1  \n",
       "4            1  "
      ]
     },
     "execution_count": 20,
     "metadata": {},
     "output_type": "execute_result"
    }
   ],
   "source": [
    "x.head()"
   ]
  },
  {
   "cell_type": "code",
   "execution_count": 21,
   "metadata": {
    "ExecuteTime": {
     "end_time": "2022-04-09T12:48:20.406953Z",
     "start_time": "2022-04-09T12:48:20.393959Z"
    }
   },
   "outputs": [],
   "source": [
    "#!pip install xgboost"
   ]
  },
  {
   "cell_type": "code",
   "execution_count": 22,
   "metadata": {
    "ExecuteTime": {
     "end_time": "2022-04-09T12:48:21.421633Z",
     "start_time": "2022-04-09T12:48:20.409948Z"
    },
    "id": "jXhQgRsWMedV"
   },
   "outputs": [],
   "source": [
    "from sklearn.linear_model import LinearRegression,Ridge,Lasso\n",
    "from sklearn.svm import SVR\n",
    "from sklearn.tree import DecisionTreeRegressor\n",
    "from sklearn.neighbors import KNeighborsRegressor\n",
    "from sklearn.ensemble import RandomForestRegressor,GradientBoostingRegressor,AdaBoostRegressor,ExtraTreesRegressor\n",
    "from xgboost import XGBRegressor"
   ]
  },
  {
   "cell_type": "code",
   "execution_count": 43,
   "metadata": {
    "ExecuteTime": {
     "end_time": "2022-04-09T12:48:59.466030Z",
     "start_time": "2022-04-09T12:48:59.442042Z"
    },
    "id": "fbSpk2i0Mefr"
   },
   "outputs": [],
   "source": [
    "from sklearn.model_selection import train_test_split\n",
    "\n",
    "X_train, X_test, y_train, y_test = train_test_split(x, y, test_size=0.2, random_state=0)"
   ]
  },
  {
   "cell_type": "code",
   "execution_count": 44,
   "metadata": {
    "ExecuteTime": {
     "end_time": "2022-04-09T12:49:00.183379Z",
     "start_time": "2022-04-09T12:49:00.157376Z"
    },
    "id": "borKm4ytMeiH"
   },
   "outputs": [],
   "source": [
    "from sklearn.preprocessing import MinMaxScaler\n",
    "\n",
    "scaler=MinMaxScaler()\n",
    "\n",
    "x_train_scaled=scaler.fit_transform(X_train)\n",
    "x_test_scaled=scaler.transform(X_test)"
   ]
  },
  {
   "cell_type": "code",
   "execution_count": 45,
   "metadata": {
    "ExecuteTime": {
     "end_time": "2022-04-09T12:49:00.880814Z",
     "start_time": "2022-04-09T12:49:00.864925Z"
    },
    "colab": {
     "base_uri": "https://localhost:8080/"
    },
    "id": "nGXyG4r-MekO",
    "outputId": "34efa532-f856-4a08-c92d-587628a05eb9"
   },
   "outputs": [
    {
     "data": {
      "text/plain": [
       "((4784, 17), (1197, 17))"
      ]
     },
     "execution_count": 45,
     "metadata": {},
     "output_type": "execute_result"
    }
   ],
   "source": [
    "x_train_scaled.shape,x_test_scaled.shape"
   ]
  },
  {
   "cell_type": "code",
   "execution_count": 46,
   "metadata": {
    "ExecuteTime": {
     "end_time": "2022-04-09T12:49:01.522625Z",
     "start_time": "2022-04-09T12:49:01.509630Z"
    },
    "id": "xb3pLpfVO8JG"
   },
   "outputs": [],
   "source": [
    "from sklearn.metrics import r2_score"
   ]
  },
  {
   "cell_type": "code",
   "execution_count": 47,
   "metadata": {
    "ExecuteTime": {
     "end_time": "2022-04-09T12:49:02.160358Z",
     "start_time": "2022-04-09T12:49:02.133372Z"
    },
    "colab": {
     "base_uri": "https://localhost:8080/"
    },
    "id": "qXOzQmiEMemk",
    "outputId": "f9484fa4-301c-43ab-cfe3-86997d018899"
   },
   "outputs": [
    {
     "name": "stdout",
     "output_type": "stream",
     "text": [
      "LinearRegression : 0.9999975430356267\n"
     ]
    }
   ],
   "source": [
    "le=LinearRegression()\n",
    "le.fit(x_train_scaled,y_train)\n",
    "le_pred=le.predict(x_test_scaled)\n",
    "le_acc=r2_score(y_test,le_pred)\n",
    "print('LinearRegression :',le_acc)"
   ]
  },
  {
   "cell_type": "code",
   "execution_count": 48,
   "metadata": {
    "ExecuteTime": {
     "end_time": "2022-04-09T12:49:02.781996Z",
     "start_time": "2022-04-09T12:49:02.753014Z"
    },
    "colab": {
     "base_uri": "https://localhost:8080/"
    },
    "id": "xaOKKWO8P3ri",
    "outputId": "78ab3a52-3d11-474f-9025-d5be4acf53dd"
   },
   "outputs": [
    {
     "name": "stdout",
     "output_type": "stream",
     "text": [
      "Ridge : 0.9981518547242708\n"
     ]
    }
   ],
   "source": [
    "r=Ridge()\n",
    "r.fit(x_train_scaled,y_train)\n",
    "r_pred=r.predict(x_test_scaled)\n",
    "r_acc=r2_score(y_test,r_pred)\n",
    "print('Ridge :',r_acc)"
   ]
  },
  {
   "cell_type": "code",
   "execution_count": 49,
   "metadata": {
    "ExecuteTime": {
     "end_time": "2022-04-09T12:49:04.247319Z",
     "start_time": "2022-04-09T12:49:04.223330Z"
    },
    "colab": {
     "base_uri": "https://localhost:8080/"
    },
    "id": "v99M1q9TQESa",
    "outputId": "140ec613-c43d-4154-bdb0-563bd9720963"
   },
   "outputs": [
    {
     "name": "stdout",
     "output_type": "stream",
     "text": [
      "Lasso : 0.986186099171011\n"
     ]
    }
   ],
   "source": [
    "l=Lasso()\n",
    "l.fit(x_train_scaled,y_train)\n",
    "l_pred=l.predict(x_test_scaled)\n",
    "l_acc=r2_score(y_test,l_pred)\n",
    "print('Lasso :',l_acc)"
   ]
  },
  {
   "cell_type": "code",
   "execution_count": 50,
   "metadata": {
    "ExecuteTime": {
     "end_time": "2022-04-09T12:49:08.096866Z",
     "start_time": "2022-04-09T12:49:04.867305Z"
    },
    "colab": {
     "base_uri": "https://localhost:8080/"
    },
    "id": "qCL8yKwPMeop",
    "outputId": "845bcdb0-c958-4af5-ef0c-3890065a8c29"
   },
   "outputs": [
    {
     "name": "stdout",
     "output_type": "stream",
     "text": [
      "SVR : 0.9305038517715427\n"
     ]
    }
   ],
   "source": [
    "svr=SVR()\n",
    "svr.fit(x_train_scaled,y_train)\n",
    "svr_pred=svr.predict(x_test_scaled)\n",
    "svr_acc=r2_score(y_test,svr_pred)\n",
    "print('SVR :',svr_acc)"
   ]
  },
  {
   "cell_type": "code",
   "execution_count": 51,
   "metadata": {
    "ExecuteTime": {
     "end_time": "2022-04-09T12:49:08.865784Z",
     "start_time": "2022-04-09T12:49:08.819445Z"
    },
    "colab": {
     "base_uri": "https://localhost:8080/"
    },
    "id": "kmfpKk-mMeq8",
    "outputId": "8136abd0-dfad-41d3-ed36-e36ce73efdc7"
   },
   "outputs": [
    {
     "name": "stdout",
     "output_type": "stream",
     "text": [
      "DecisionTreeRegressor : 0.999745497409145\n"
     ]
    }
   ],
   "source": [
    "dt=DecisionTreeRegressor()\n",
    "dt.fit(x_train_scaled,y_train)\n",
    "dt_pred=dt.predict(x_test_scaled)\n",
    "dt_acc=r2_score(y_test,dt_pred)\n",
    "print('DecisionTreeRegressor :',dt_acc)"
   ]
  },
  {
   "cell_type": "code",
   "execution_count": 52,
   "metadata": {
    "ExecuteTime": {
     "end_time": "2022-04-09T12:49:09.699843Z",
     "start_time": "2022-04-09T12:49:09.512579Z"
    },
    "colab": {
     "base_uri": "https://localhost:8080/"
    },
    "id": "fdB5sCH-Mes9",
    "outputId": "8e194e29-57a7-4e03-c9a1-f8bdb6deb69e"
   },
   "outputs": [
    {
     "name": "stdout",
     "output_type": "stream",
     "text": [
      "KNeighborsRegressor : 0.9930811368656425\n"
     ]
    }
   ],
   "source": [
    "knn=KNeighborsRegressor()\n",
    "knn.fit(x_train_scaled,y_train)\n",
    "knn_pred=knn.predict(x_test_scaled)\n",
    "knn_acc=r2_score(y_test,knn_pred)\n",
    "print('KNeighborsRegressor :',knn_acc)"
   ]
  },
  {
   "cell_type": "code",
   "execution_count": 53,
   "metadata": {
    "ExecuteTime": {
     "end_time": "2022-04-09T12:49:11.268494Z",
     "start_time": "2022-04-09T12:49:10.282832Z"
    },
    "colab": {
     "base_uri": "https://localhost:8080/"
    },
    "id": "VE-XlkaWMevD",
    "outputId": "6bc641be-d6ea-4244-9516-f9871480d735"
   },
   "outputs": [
    {
     "name": "stdout",
     "output_type": "stream",
     "text": [
      "RandomForestRegressor : 0.999742696976551\n"
     ]
    }
   ],
   "source": [
    "rf=RandomForestRegressor()\n",
    "rf.fit(x_train_scaled,y_train)\n",
    "rf_pred=rf.predict(x_test_scaled)\n",
    "rf_acc=r2_score(y_test,rf_pred)\n",
    "print('RandomForestRegressor :',rf_acc)"
   ]
  },
  {
   "cell_type": "code",
   "execution_count": 54,
   "metadata": {
    "ExecuteTime": {
     "end_time": "2022-04-09T12:49:12.367713Z",
     "start_time": "2022-04-09T12:49:11.835541Z"
    },
    "colab": {
     "base_uri": "https://localhost:8080/"
    },
    "id": "iNQAuqOxRIaV",
    "outputId": "dcc78869-073d-4741-a95d-0b3c8e6c625e"
   },
   "outputs": [
    {
     "name": "stdout",
     "output_type": "stream",
     "text": [
      "GradientBoostingRegressor : 0.9997209537413659\n"
     ]
    }
   ],
   "source": [
    "gb=GradientBoostingRegressor()\n",
    "gb.fit(x_train_scaled,y_train)\n",
    "gb_pred=gb.predict(x_test_scaled)\n",
    "gb_acc=r2_score(y_test,gb_pred)\n",
    "print('GradientBoostingRegressor :',gb_acc)"
   ]
  },
  {
   "cell_type": "code",
   "execution_count": 55,
   "metadata": {
    "ExecuteTime": {
     "end_time": "2022-04-09T12:49:13.221191Z",
     "start_time": "2022-04-09T12:49:12.955416Z"
    },
    "colab": {
     "base_uri": "https://localhost:8080/"
    },
    "id": "H6Es9De3RIcg",
    "outputId": "2d758505-89b8-4a42-8333-206ce9ac025b"
   },
   "outputs": [
    {
     "name": "stdout",
     "output_type": "stream",
     "text": [
      "AdaBoostRegressor : 0.9933264876927227\n"
     ]
    }
   ],
   "source": [
    "ab=AdaBoostRegressor()\n",
    "ab.fit(x_train_scaled,y_train)\n",
    "ab_pred=ab.predict(x_test_scaled)\n",
    "ab_acc=r2_score(y_test,ab_pred)\n",
    "print('AdaBoostRegressor :',ab_acc)"
   ]
  },
  {
   "cell_type": "code",
   "execution_count": 56,
   "metadata": {
    "ExecuteTime": {
     "end_time": "2022-04-09T12:49:16.147416Z",
     "start_time": "2022-04-09T12:49:15.202362Z"
    },
    "colab": {
     "base_uri": "https://localhost:8080/"
    },
    "id": "RI6VBI7wRIe3",
    "outputId": "c8cb56e6-7955-4c6a-e2e8-ae2a7cb408e1"
   },
   "outputs": [
    {
     "name": "stdout",
     "output_type": "stream",
     "text": [
      "ExtraTreesRegressor : 0.9995485441375387\n"
     ]
    }
   ],
   "source": [
    "et=ExtraTreesRegressor()\n",
    "et.fit(x_train_scaled,y_train)\n",
    "et_pred=et.predict(x_test_scaled)\n",
    "et_acc=r2_score(y_test,et_pred)\n",
    "print('ExtraTreesRegressor :',et_acc)"
   ]
  },
  {
   "cell_type": "code",
   "execution_count": 57,
   "metadata": {
    "ExecuteTime": {
     "end_time": "2022-04-09T12:49:17.282949Z",
     "start_time": "2022-04-09T12:49:16.747136Z"
    },
    "colab": {
     "base_uri": "https://localhost:8080/"
    },
    "id": "CFLA66K8RIhp",
    "outputId": "76d56da2-1204-42bd-ed88-d5a18c9b198a"
   },
   "outputs": [
    {
     "name": "stdout",
     "output_type": "stream",
     "text": [
      "XGBRegressor : 0.9997522045659579\n"
     ]
    }
   ],
   "source": [
    "\n",
    "xgb=XGBRegressor()\n",
    "xgb.fit(x_train_scaled,y_train)\n",
    "xgb_pred=xgb.predict(x_test_scaled)\n",
    "xgb_acc=r2_score(y_test,xgb_pred)\n",
    "print('XGBRegressor :',xgb_acc)"
   ]
  },
  {
   "cell_type": "code",
   "execution_count": 78,
   "metadata": {
    "ExecuteTime": {
     "end_time": "2022-04-09T14:29:09.617871Z",
     "start_time": "2022-04-09T14:29:09.578892Z"
    }
   },
   "outputs": [
    {
     "data": {
      "text/plain": [
       "0.9999974502428883"
      ]
     },
     "execution_count": 78,
     "metadata": {},
     "output_type": "execute_result"
    }
   ],
   "source": [
    "xgb.score(x_train_scaled,y_train)"
   ]
  },
  {
   "cell_type": "code",
   "execution_count": 58,
   "metadata": {
    "ExecuteTime": {
     "end_time": "2022-04-09T12:49:17.867543Z",
     "start_time": "2022-04-09T12:49:17.854548Z"
    },
    "colab": {
     "base_uri": "https://localhost:8080/",
     "height": 394
    },
    "id": "kpbpsTjpRIjs",
    "outputId": "429f7960-6cbc-4c38-b692-ebb0eae7c100"
   },
   "outputs": [
    {
     "data": {
      "text/html": [
       "<div>\n",
       "<style scoped>\n",
       "    .dataframe tbody tr th:only-of-type {\n",
       "        vertical-align: middle;\n",
       "    }\n",
       "\n",
       "    .dataframe tbody tr th {\n",
       "        vertical-align: top;\n",
       "    }\n",
       "\n",
       "    .dataframe thead th {\n",
       "        text-align: right;\n",
       "    }\n",
       "</style>\n",
       "<table border=\"1\" class=\"dataframe\">\n",
       "  <thead>\n",
       "    <tr style=\"text-align: right;\">\n",
       "      <th></th>\n",
       "      <th>Model</th>\n",
       "      <th>Accuracy</th>\n",
       "    </tr>\n",
       "  </thead>\n",
       "  <tbody>\n",
       "    <tr>\n",
       "      <th>0</th>\n",
       "      <td>LinearRegression</td>\n",
       "      <td>0.999998</td>\n",
       "    </tr>\n",
       "    <tr>\n",
       "      <th>1</th>\n",
       "      <td>Ridge</td>\n",
       "      <td>0.998152</td>\n",
       "    </tr>\n",
       "    <tr>\n",
       "      <th>2</th>\n",
       "      <td>Lasso</td>\n",
       "      <td>0.986186</td>\n",
       "    </tr>\n",
       "    <tr>\n",
       "      <th>3</th>\n",
       "      <td>SVR</td>\n",
       "      <td>0.930504</td>\n",
       "    </tr>\n",
       "    <tr>\n",
       "      <th>4</th>\n",
       "      <td>DecisionTreeRegressor</td>\n",
       "      <td>0.999745</td>\n",
       "    </tr>\n",
       "    <tr>\n",
       "      <th>5</th>\n",
       "      <td>KNeighborsRegressor</td>\n",
       "      <td>0.993081</td>\n",
       "    </tr>\n",
       "    <tr>\n",
       "      <th>6</th>\n",
       "      <td>RandomForestRegressor</td>\n",
       "      <td>0.999743</td>\n",
       "    </tr>\n",
       "    <tr>\n",
       "      <th>7</th>\n",
       "      <td>GradientBoostingRegressor</td>\n",
       "      <td>0.999721</td>\n",
       "    </tr>\n",
       "    <tr>\n",
       "      <th>8</th>\n",
       "      <td>AdaBoostRegressor</td>\n",
       "      <td>0.993326</td>\n",
       "    </tr>\n",
       "    <tr>\n",
       "      <th>9</th>\n",
       "      <td>ExtraTreesRegressor</td>\n",
       "      <td>0.999549</td>\n",
       "    </tr>\n",
       "    <tr>\n",
       "      <th>10</th>\n",
       "      <td>XGBRegressor</td>\n",
       "      <td>0.999752</td>\n",
       "    </tr>\n",
       "  </tbody>\n",
       "</table>\n",
       "</div>"
      ],
      "text/plain": [
       "                         Model  Accuracy\n",
       "0             LinearRegression  0.999998\n",
       "1                        Ridge  0.998152\n",
       "2                        Lasso  0.986186\n",
       "3                          SVR  0.930504\n",
       "4        DecisionTreeRegressor  0.999745\n",
       "5          KNeighborsRegressor  0.993081\n",
       "6        RandomForestRegressor  0.999743\n",
       "7   GradientBoostingRegressor   0.999721\n",
       "8            AdaBoostRegressor  0.993326\n",
       "9          ExtraTreesRegressor  0.999549\n",
       "10                XGBRegressor  0.999752"
      ]
     },
     "execution_count": 58,
     "metadata": {},
     "output_type": "execute_result"
    }
   ],
   "source": [
    "accuracy=pd.Series([le_acc,r_acc,l_acc,svr_acc,dt_acc,knn_acc,rf_acc,gb_acc,ab_acc,et_acc,xgb_acc])\n",
    "models=pd.Series(['LinearRegression','Ridge','Lasso','SVR','DecisionTreeRegressor','KNeighborsRegressor','RandomForestRegressor','GradientBoostingRegressor ','AdaBoostRegressor','ExtraTreesRegressor','XGBRegressor'])\n",
    "data={'Model':models,'Accuracy':accuracy}\n",
    "accuracy_df=pd.DataFrame(data)\n",
    "accuracy_df"
   ]
  },
  {
   "cell_type": "code",
   "execution_count": 59,
   "metadata": {
    "ExecuteTime": {
     "end_time": "2022-04-09T12:49:22.131327Z",
     "start_time": "2022-04-09T12:49:22.110318Z"
    },
    "colab": {
     "base_uri": "https://localhost:8080/",
     "height": 394
    },
    "id": "70V6-WiSRImE",
    "outputId": "1ea60938-c419-4f90-9ed7-334d7771a9d7"
   },
   "outputs": [
    {
     "data": {
      "text/html": [
       "<div>\n",
       "<style scoped>\n",
       "    .dataframe tbody tr th:only-of-type {\n",
       "        vertical-align: middle;\n",
       "    }\n",
       "\n",
       "    .dataframe tbody tr th {\n",
       "        vertical-align: top;\n",
       "    }\n",
       "\n",
       "    .dataframe thead th {\n",
       "        text-align: right;\n",
       "    }\n",
       "</style>\n",
       "<table border=\"1\" class=\"dataframe\">\n",
       "  <thead>\n",
       "    <tr style=\"text-align: right;\">\n",
       "      <th></th>\n",
       "      <th>Model</th>\n",
       "      <th>Accuracy</th>\n",
       "    </tr>\n",
       "  </thead>\n",
       "  <tbody>\n",
       "    <tr>\n",
       "      <th>0</th>\n",
       "      <td>LinearRegression</td>\n",
       "      <td>0.999998</td>\n",
       "    </tr>\n",
       "    <tr>\n",
       "      <th>10</th>\n",
       "      <td>XGBRegressor</td>\n",
       "      <td>0.999752</td>\n",
       "    </tr>\n",
       "    <tr>\n",
       "      <th>4</th>\n",
       "      <td>DecisionTreeRegressor</td>\n",
       "      <td>0.999745</td>\n",
       "    </tr>\n",
       "    <tr>\n",
       "      <th>6</th>\n",
       "      <td>RandomForestRegressor</td>\n",
       "      <td>0.999743</td>\n",
       "    </tr>\n",
       "    <tr>\n",
       "      <th>7</th>\n",
       "      <td>GradientBoostingRegressor</td>\n",
       "      <td>0.999721</td>\n",
       "    </tr>\n",
       "    <tr>\n",
       "      <th>9</th>\n",
       "      <td>ExtraTreesRegressor</td>\n",
       "      <td>0.999549</td>\n",
       "    </tr>\n",
       "    <tr>\n",
       "      <th>1</th>\n",
       "      <td>Ridge</td>\n",
       "      <td>0.998152</td>\n",
       "    </tr>\n",
       "    <tr>\n",
       "      <th>8</th>\n",
       "      <td>AdaBoostRegressor</td>\n",
       "      <td>0.993326</td>\n",
       "    </tr>\n",
       "    <tr>\n",
       "      <th>5</th>\n",
       "      <td>KNeighborsRegressor</td>\n",
       "      <td>0.993081</td>\n",
       "    </tr>\n",
       "    <tr>\n",
       "      <th>2</th>\n",
       "      <td>Lasso</td>\n",
       "      <td>0.986186</td>\n",
       "    </tr>\n",
       "    <tr>\n",
       "      <th>3</th>\n",
       "      <td>SVR</td>\n",
       "      <td>0.930504</td>\n",
       "    </tr>\n",
       "  </tbody>\n",
       "</table>\n",
       "</div>"
      ],
      "text/plain": [
       "                         Model  Accuracy\n",
       "0             LinearRegression  0.999998\n",
       "10                XGBRegressor  0.999752\n",
       "4        DecisionTreeRegressor  0.999745\n",
       "6        RandomForestRegressor  0.999743\n",
       "7   GradientBoostingRegressor   0.999721\n",
       "9          ExtraTreesRegressor  0.999549\n",
       "1                        Ridge  0.998152\n",
       "8            AdaBoostRegressor  0.993326\n",
       "5          KNeighborsRegressor  0.993081\n",
       "2                        Lasso  0.986186\n",
       "3                          SVR  0.930504"
      ]
     },
     "execution_count": 59,
     "metadata": {},
     "output_type": "execute_result"
    }
   ],
   "source": [
    "accuracy_df.sort_values(by='Accuracy',ascending=False)"
   ]
  },
  {
   "cell_type": "code",
   "execution_count": 60,
   "metadata": {
    "ExecuteTime": {
     "end_time": "2022-04-09T12:49:50.353333Z",
     "start_time": "2022-04-09T12:49:50.335347Z"
    },
    "id": "NEOz8L4NUuof"
   },
   "outputs": [],
   "source": [
    "from sklearn.model_selection import cross_val_score\n",
    "import numpy as np"
   ]
  },
  {
   "cell_type": "code",
   "execution_count": 61,
   "metadata": {
    "ExecuteTime": {
     "end_time": "2022-04-09T12:49:51.334353Z",
     "start_time": "2022-04-09T12:49:51.319365Z"
    },
    "id": "400ttB7kUt9t"
   },
   "outputs": [],
   "source": [
    "X_transformed=scaler.fit_transform(x)"
   ]
  },
  {
   "cell_type": "code",
   "execution_count": 67,
   "metadata": {
    "ExecuteTime": {
     "end_time": "2022-04-09T13:01:58.487736Z",
     "start_time": "2022-04-09T13:00:48.503077Z"
    },
    "colab": {
     "base_uri": "https://localhost:8080/"
    },
    "id": "GltkdVtjRIoQ",
    "outputId": "d29de8f8-f4d3-4236-a7ca-d34a3410ad24"
   },
   "outputs": [
    {
     "name": "stdout",
     "output_type": "stream",
     "text": [
      "LinearRegression 0.9995166780149372\n",
      "Ridge 0.9981039265392141\n",
      "Lasso 0.984539653673901\n",
      "SVR 0.9498791012169623\n",
      "DecisionTreeRegressor 0.9998678348232938\n",
      "KNeighborsRegressor 0.9931827536179061\n",
      "RandomForestRegressor 0.9999300033704195\n",
      "GradientBoostingRegressor 0.999859572810297\n",
      "AdaBoostRegressor 0.993555033716621\n",
      "ExtraTreesRegressor 0.9996747985148191\n",
      "XGBRegressor 0.9999184287208607\n"
     ]
    }
   ],
   "source": [
    "\n",
    "\n",
    "print(\"LinearRegression\",np.mean(cross_val_score(le,X_transformed,y,scoring='r2',cv=10)))\n",
    "print(\"Ridge\",np.mean(cross_val_score(r,X_transformed,y,scoring='r2',cv=10)))\n",
    "print(\"Lasso\",np.mean(cross_val_score(l,X_transformed,y,scoring='r2',cv=10)))\n",
    "print(\"SVR\",np.mean(cross_val_score(svr,X_transformed,y,scoring='r2',cv=10)))\n",
    "print(\"DecisionTreeRegressor\",np.mean(cross_val_score(dt,X_transformed,y,scoring='r2',cv=10)))\n",
    "print(\"KNeighborsRegressor\",np.mean(cross_val_score(knn,X_transformed,y,scoring='r2',cv=10)))\n",
    "print(\"RandomForestRegressor\",np.mean(cross_val_score(rf,X_transformed,y,scoring='r2',cv=10)))\n",
    "print(\"GradientBoostingRegressor\",np.mean(cross_val_score(gb,X_transformed,y,scoring='r2',cv=10)))\n",
    "print(\"AdaBoostRegressor\",np.mean(cross_val_score(ab,X_transformed,y,scoring='r2',cv=10)))\n",
    "print(\"ExtraTreesRegressor\",np.mean(cross_val_score(et,X_transformed,y,scoring='r2',cv=10)))\n",
    "print(\"XGBRegressor\",np.mean(cross_val_score(xgb,X_transformed,y,scoring='r2',cv=10)))\n",
    "\n"
   ]
  },
  {
   "cell_type": "code",
   "execution_count": 69,
   "metadata": {
    "ExecuteTime": {
     "end_time": "2022-04-09T13:09:31.904990Z",
     "start_time": "2022-04-09T13:09:26.372435Z"
    },
    "id": "bapfh2MURIql"
   },
   "outputs": [],
   "source": [
    "cv_le_acc=np.mean(cross_val_score(le,X_transformed,y,scoring='r2',cv=10))\n",
    "cv_r_acc=np.mean(cross_val_score(r,X_transformed,y,scoring='r2',cv=10))\n",
    "cv_l_acc=np.mean(cross_val_score(l,X_transformed,y,scoring='r2',cv=10))\n",
    "cv_svr_acc=np.mean(cross_val_score(svr,X_transformed,y,scoring='r2',cv=10))\n",
    "cv_dt_acc=np.mean(cross_val_score(dt,X_transformed,y,scoring='r2',cv=10))\n",
    "cv_knn_acc=np.mean(cross_val_score(knn,X_transformed,y,scoring='r2',cv=10))\n",
    "cv_rf_acc=np.mean(cross_val_score(rf,X_transformed,y,scoring='r2',cv=10))\n",
    "cv_gb_acc=np.mean(cross_val_score(gb,X_transformed,y,scoring='r2',cv=10))\n",
    "cv_ab_acc=np.mean(cross_val_score(ab,X_transformed,y,scoring='r2',cv=10))\n",
    "cv_et_acc=np.mean(cross_val_score(et,X_transformed,y,scoring='r2',cv=10))\n",
    "cv_xgb_acc=np.mean(cross_val_score(xgb,X_transformed,y,scoring='r2',cv=10))"
   ]
  },
  {
   "cell_type": "code",
   "execution_count": 70,
   "metadata": {
    "ExecuteTime": {
     "end_time": "2022-04-09T13:10:28.219554Z",
     "start_time": "2022-04-09T13:10:28.209560Z"
    }
   },
   "outputs": [],
   "source": [
    "cv_accuracy=pd.Series([cv_le_acc,cv_r_acc,cv_l_acc,cv_svr_acc,cv_dt_acc,cv_knn_acc,cv_rf_acc,cv_gb_acc,cv_ab_acc,cv_et_acc,cv_xgb_acc])\n",
    "models=pd.Series(['LinearRegression','Ridge','Lasso','SVR','DecisionTreeRegressor','KNeighborsRegressor','RandomForestRegressor','GradientBoostingRegressor ','AdaBoostRegressor','ExtraTreesRegressor','XGBRegressor'])\n",
    "data={'Model':models,'Accuracy':cv_accuracy}\n",
    "cv_accuracy_df=pd.DataFrame(data)"
   ]
  },
  {
   "cell_type": "code",
   "execution_count": 71,
   "metadata": {
    "ExecuteTime": {
     "end_time": "2022-04-09T13:10:51.232834Z",
     "start_time": "2022-04-09T13:10:51.208846Z"
    }
   },
   "outputs": [
    {
     "data": {
      "text/html": [
       "<div>\n",
       "<style scoped>\n",
       "    .dataframe tbody tr th:only-of-type {\n",
       "        vertical-align: middle;\n",
       "    }\n",
       "\n",
       "    .dataframe tbody tr th {\n",
       "        vertical-align: top;\n",
       "    }\n",
       "\n",
       "    .dataframe thead th {\n",
       "        text-align: right;\n",
       "    }\n",
       "</style>\n",
       "<table border=\"1\" class=\"dataframe\">\n",
       "  <thead>\n",
       "    <tr style=\"text-align: right;\">\n",
       "      <th></th>\n",
       "      <th>Model</th>\n",
       "      <th>Accuracy</th>\n",
       "    </tr>\n",
       "  </thead>\n",
       "  <tbody>\n",
       "    <tr>\n",
       "      <th>6</th>\n",
       "      <td>RandomForestRegressor</td>\n",
       "      <td>0.999932</td>\n",
       "    </tr>\n",
       "    <tr>\n",
       "      <th>10</th>\n",
       "      <td>XGBRegressor</td>\n",
       "      <td>0.999918</td>\n",
       "    </tr>\n",
       "    <tr>\n",
       "      <th>4</th>\n",
       "      <td>DecisionTreeRegressor</td>\n",
       "      <td>0.999909</td>\n",
       "    </tr>\n",
       "    <tr>\n",
       "      <th>7</th>\n",
       "      <td>GradientBoostingRegressor</td>\n",
       "      <td>0.999860</td>\n",
       "    </tr>\n",
       "    <tr>\n",
       "      <th>9</th>\n",
       "      <td>ExtraTreesRegressor</td>\n",
       "      <td>0.999699</td>\n",
       "    </tr>\n",
       "    <tr>\n",
       "      <th>0</th>\n",
       "      <td>LinearRegression</td>\n",
       "      <td>0.999517</td>\n",
       "    </tr>\n",
       "    <tr>\n",
       "      <th>1</th>\n",
       "      <td>Ridge</td>\n",
       "      <td>0.998104</td>\n",
       "    </tr>\n",
       "    <tr>\n",
       "      <th>8</th>\n",
       "      <td>AdaBoostRegressor</td>\n",
       "      <td>0.993619</td>\n",
       "    </tr>\n",
       "    <tr>\n",
       "      <th>5</th>\n",
       "      <td>KNeighborsRegressor</td>\n",
       "      <td>0.993183</td>\n",
       "    </tr>\n",
       "    <tr>\n",
       "      <th>2</th>\n",
       "      <td>Lasso</td>\n",
       "      <td>0.984540</td>\n",
       "    </tr>\n",
       "    <tr>\n",
       "      <th>3</th>\n",
       "      <td>SVR</td>\n",
       "      <td>0.949879</td>\n",
       "    </tr>\n",
       "  </tbody>\n",
       "</table>\n",
       "</div>"
      ],
      "text/plain": [
       "                         Model  Accuracy\n",
       "6        RandomForestRegressor  0.999932\n",
       "10                XGBRegressor  0.999918\n",
       "4        DecisionTreeRegressor  0.999909\n",
       "7   GradientBoostingRegressor   0.999860\n",
       "9          ExtraTreesRegressor  0.999699\n",
       "0             LinearRegression  0.999517\n",
       "1                        Ridge  0.998104\n",
       "8            AdaBoostRegressor  0.993619\n",
       "5          KNeighborsRegressor  0.993183\n",
       "2                        Lasso  0.984540\n",
       "3                          SVR  0.949879"
      ]
     },
     "execution_count": 71,
     "metadata": {},
     "output_type": "execute_result"
    }
   ],
   "source": [
    "cv_accuracy_df.sort_values(by='Accuracy',ascending=False)"
   ]
  },
  {
   "cell_type": "code",
   "execution_count": null,
   "metadata": {},
   "outputs": [],
   "source": []
  }
 ],
 "metadata": {
  "colab": {
   "collapsed_sections": [],
   "name": "FE.ipynb",
   "provenance": []
  },
  "kernelspec": {
   "display_name": "Python 3 (ipykernel)",
   "language": "python",
   "name": "python3"
  },
  "language_info": {
   "codemirror_mode": {
    "name": "ipython",
    "version": 3
   },
   "file_extension": ".py",
   "mimetype": "text/x-python",
   "name": "python",
   "nbconvert_exporter": "python",
   "pygments_lexer": "ipython3",
   "version": "3.9.7"
  },
  "varInspector": {
   "cols": {
    "lenName": 16,
    "lenType": 16,
    "lenVar": 40
   },
   "kernels_config": {
    "python": {
     "delete_cmd_postfix": "",
     "delete_cmd_prefix": "del ",
     "library": "var_list.py",
     "varRefreshCmd": "print(var_dic_list())"
    },
    "r": {
     "delete_cmd_postfix": ") ",
     "delete_cmd_prefix": "rm(",
     "library": "var_list.r",
     "varRefreshCmd": "cat(var_dic_list()) "
    }
   },
   "types_to_exclude": [
    "module",
    "function",
    "builtin_function_or_method",
    "instance",
    "_Feature"
   ],
   "window_display": false
  }
 },
 "nbformat": 4,
 "nbformat_minor": 1
}
